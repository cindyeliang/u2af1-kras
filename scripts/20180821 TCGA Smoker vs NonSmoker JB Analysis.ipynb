{
 "cells": [
  {
   "cell_type": "markdown",
   "metadata": {},
   "source": [
    "# This analysis and code was performed and written by Cameron Soulette (csoulette@gmail.com)"
   ]
  },
  {
   "cell_type": "code",
   "execution_count": 1,
   "metadata": {},
   "outputs": [
    {
     "name": "stderr",
     "output_type": "stream",
     "text": [
      "/usr/lib64/python3.6/importlib/_bootstrap.py:219: RuntimeWarning: numpy.dtype size changed, may indicate binary incompatibility. Expected 96, got 88\n",
      "  return f(*args, **kwds)\n"
     ]
    }
   ],
   "source": [
    "#Hot imports\n",
    "import numpy as np\n",
    "import os, sys\n",
    "import matplotlib.pyplot as plt\n",
    "import seaborn as sns\n",
    "import pandas as pd"
   ]
  },
  {
   "cell_type": "markdown",
   "metadata": {},
   "source": [
    "## Breakdown\n",
    "- There are several categories of smokers. I will do both the z-score and IQR analysis.\n",
    "- For the IQR analysis, I will use \"lifelong non-smoker\" as the \"normal\""
   ]
  },
  {
   "cell_type": "code",
   "execution_count": 2,
   "metadata": {},
   "outputs": [],
   "source": [
    "# Now make reference dictionary for TCGA IDs belonging to each category.\n",
    "# The juncbase table is actually indexed by \"CGHub_Tumor_analysis_id_RNA\"\n",
    "# And the smoking status is indexed by \"Smoking_History\"\n",
    "# I'll use these headers rather than defines column numbers.\n",
    "\n",
    "table = \"./campbell_et_al_patient_characteristics.csv\"\n",
    "smokingRef = dict()\n",
    "otherRef = dict()\n",
    "out = open(\"names_smoking.tsv\",\"w\")\n",
    "with open(table,'r') as lines:\n",
    "    header = next(lines).rstrip().split(\",\")\n",
    "    headerDict = {colName:pos for pos,colName in enumerate(header,0)}\n",
    "    smokerStatus = headerDict[\"Smoking_History\"]\n",
    "    analysisID = headerDict[\"CGHub_Tumor_analysis_id_RNA\"]\n",
    "    \n",
    "    for line in lines:\n",
    "        cols = line.rstrip().split(\",\")\n",
    "        if \"TCGA\" not in cols[0]:\n",
    "            continue\n",
    "        \n",
    "        status, sample = cols[smokerStatus].lower(), cols[analysisID]\n",
    "        if status not in smokingRef:\n",
    "            smokingRef[status] = set()\n",
    "        print(status,sample, sep=\"\\t\", file=out)\n",
    "        smokingRef[status].add(sample)\n",
    "        otherRef[sample] = status\n",
    "out.close()"
   ]
  },
  {
   "cell_type": "code",
   "execution_count": 3,
   "metadata": {},
   "outputs": [
    {
     "name": "stdout",
     "output_type": "stream",
     "text": [
      "NA LUAD-E01317\n",
      "NA LUAD-F00282\n",
      "NA LUAD-S01302\n",
      "NA LUAD-S01381\n",
      "d1ec7dfb-965d-4679-8298-4c70bba54c03 LUAD-TCGA-49-4505\n",
      "f35e0cc0-27d3-4c01-86ca-f5e9297969c7 LUAD-TCGA-49-6744\n",
      "f878725e-f9dd-41c7-83e8-83344baec474 LUAD-TCGA-50-5941\n",
      "676bf140-ab94-40fd-96c7-47353b700331 LUAD-TCGA-50-8460\n",
      "18834dd7-861d-45b6-9c1a-079f645c8f0a LUAD-TCGA-55-1595\n",
      "b1db98e2-4578-4680-a09f-c63ae45e83bd LUAD-TCGA-55-7727\n",
      "0f39ade9-ed29-48c1-9939-f2bd1b4eda12 LUAD-TCGA-55-7903\n",
      "c9537649-9c8f-4963-be87-34ddbd438c03 LUAD-TCGA-64-1680\n",
      "775b760b-2421-4237-9f74-df239090fcc1 LUAD-TCGA-78-7145\n",
      "0d4b3ea4-715b-483e-af1d-9540444eb178 LUAD-TCGA-78-8655\n",
      "0718f366-4b85-44a9-9e6e-b2c5bb7dac2d LUAD-TCGA-MP-A4T4\n"
     ]
    }
   ],
   "source": [
    "table = \"./campbell_et_al_patient_characteristics.csv\"\n",
    "tcgaRef = dict()\n",
    "with open(table,'r') as lines:\n",
    "    header = next(lines).rstrip().split(\",\")\n",
    "    headerDict = {colName:pos for pos,colName in enumerate(header,0)}\n",
    "    smokerStatus = headerDict[\"Smoking_History\"]\n",
    "    analysisID = headerDict[\"CGHub_Tumor_analysis_id_RNA\"]\n",
    "    \n",
    "    for line in lines:\n",
    "        cols = line.rstrip().split(\",\")\n",
    "        tcgaRef[cols[0]] = cols[analysisID]\n",
    "\n",
    "u2muts = dict()\n",
    "table = \"./molecular_summary.csv\"\n",
    "with open(table,'r') as lines:\n",
    "    header = next(lines).rstrip().split(\",\")\n",
    "    headerDict = {colName:pos for pos,colName in enumerate(header,0)}\n",
    "    for num, line in enumerate(lines,0):\n",
    "        cols = line.rstrip().split(\",\")\n",
    "        \n",
    "        tID = cols[0]\n",
    "        \n",
    "        s34f = cols[headerDict[\"U2AF1_Mutations\"]]\n",
    "        if \"S34F\" in s34f:\n",
    "            u2muts[tID] = True\n",
    "            print(tcgaRef[tID], tID)"
   ]
  },
  {
   "cell_type": "code",
   "execution_count": 4,
   "metadata": {},
   "outputs": [],
   "source": [
    "normalRef = set()\n",
    "with open(\"../gdc_legacy_LUAD_manifest_20180823.tsv\",'r') as lines:\n",
    "    for line in lines:\n",
    "        cols = line.rstrip().split(\"\\t\")\n",
    "        if \"normal\" in cols[1].lower():\n",
    "            normalRef.add(cols[-1])"
   ]
  },
  {
   "cell_type": "code",
   "execution_count": 6,
   "metadata": {},
   "outputs": [],
   "source": [
    "# Now to get the juncbase table\n",
    "jbTable = \"../LUAD_601_JBrunFINAL/LUAD_601_RNA_JBoutput_AS_exclusion_inclusion_counts_lenNorm.txt\"\n",
    "\n",
    "\n",
    "smokingColRef = dict()\n",
    "normalKey = \"lifelong non-smoker\"\n",
    "readSupportThreshold = 25\n",
    "nanThreshold = .5\n",
    "x, y = list(), list()\n",
    "out = open(\"test3.tsv\",\"w\")\n",
    "\n",
    "sampleCounts = dict()\n",
    "with open(jbTable,'r') as lines:\n",
    "    header = next(lines).rstrip().split(\"\\t\")\n",
    "    headerDict = {colName:pos for pos,colName in enumerate(header,0)}\n",
    "\n",
    "    # Compile column positions for each group of smokers\n",
    "    # lifelong non-smoker will be my \"normal\" set\n",
    "    allPats = set()\n",
    "    normIndices = [headerDict[x] for x in normalRef]\n",
    "    for status, samples in smokingRef.items():\n",
    "\n",
    "        colNums = [headerDict[sample] for sample in list(samples) if sample in headerDict]\n",
    "        smokingColRef[status] = colNums\n",
    "        allPats = allPats.union(colNums)\n",
    "        \n",
    "    allPats = list(allPats)\n",
    "    sampleCounts = {header[pos]:0 for pos in allPats}\n",
    "    for num, line in enumerate(lines,0):\n",
    "        \n",
    "\n",
    "        cols = line.rstrip().split(\"\\t\")\n",
    "        \n",
    "        if \"jcn_only\" in cols[1]:\n",
    "            continue\n",
    "        elif \"intron\" in cols[1] and cols[0] == \"N\":\n",
    "            continue\n",
    "        \n",
    "        normVals = [list(map(int, cols[pos].split(\";\"))) for pos in normIndices]\n",
    "\n",
    "        normVals = np.asarray([x[0]/(x[0]+x[1]) if (x[0]+x[1])>readSupportThreshold else np.nan \n",
    "                              for x in normVals], \n",
    "                               dtype=float)\n",
    "        \n",
    "        \n",
    "        nanCount = np.count_nonzero(np.isnan(normVals))\n",
    "\n",
    "        if (nanCount/len(normVals)) > nanThreshold:\n",
    "            continue\n",
    "            \n",
    "        \n",
    "        \n",
    "        median = np.nanmedian(normVals)\n",
    "        firstQ = np.nanpercentile(normVals, 25)\n",
    "        thirdQ = np.nanpercentile(normVals, 75)\n",
    "        iqrT = (thirdQ - firstQ)*1.5\n",
    "        \n",
    "        allVals = [list(map(int, cols[pos].split(\";\"))) for pos in allPats]\n",
    "\n",
    "        allVals = np.asarray([x[0]/(x[0]+x[1]) if (x[0]+x[1])>readSupportThreshold else np.nan \n",
    "                              for x in allVals], \n",
    "                               dtype=float)\n",
    "        \n",
    "        for num2,pos in enumerate(allPats,0):\n",
    "            val = allVals[num2]\n",
    "            sample = header[pos]\n",
    "            \n",
    "            if abs((val-median)) > 0.1 and abs((val-median)) > iqrT:\n",
    "                sampleCounts[sample] += 1\n",
    "            else:\n",
    "                continue\n",
    "       \n",
    "for k,v in sampleCounts.items():\n",
    "    print(k,v,otherRef[k],  sep=\"\\t\", file=out)\n",
    "out.close()"
   ]
  },
  {
   "cell_type": "code",
   "execution_count": null,
   "metadata": {},
   "outputs": [],
   "source": []
  }
 ],
 "metadata": {
  "kernelspec": {
   "display_name": "Python 3 (ipykernel)",
   "language": "python",
   "name": "python3"
  },
  "language_info": {
   "codemirror_mode": {
    "name": "ipython",
    "version": 3
   },
   "file_extension": ".py",
   "mimetype": "text/x-python",
   "name": "python",
   "nbconvert_exporter": "python",
   "pygments_lexer": "ipython3",
   "version": "3.9.13"
  }
 },
 "nbformat": 4,
 "nbformat_minor": 2
}
