{
 "cells": [
  {
   "cell_type": "markdown",
   "id": "3d7109e1",
   "metadata": {},
   "source": [
    "# Background\n",
    "\n",
    "- **inputs:** \n",
    "    - tsv of U2AF1 mut vs. WT driver mutations generated from this query: https://bit.ly/3Ui2FrQ\n",
    "        - all lung ADC studies excluding studies with overlapping samples and TSP Nature, 2008. Exclude studies that just say \"lung cancer\" or \"non SC lung cancer\" in this category\n",
    "        - Go to query -> \"Download\" tab -> Downloadable Data Files -> Mutations (OQL is not in effect)\n",
    " \n",
    "- **goals**:\n",
    "    - Calculate fractions of EGFR, KRAS, and \"Other mutations\" (samples with neither EGFR nor KRAS muts but may or may not have muts in other genes) and plot stacked bar plot on prism. annotate with p values for U2AF1/KRAS mutation co-occurrence from cBioPortal query (q < 0.001)"
   ]
  },
  {
   "cell_type": "markdown",
   "id": "467e0c15",
   "metadata": {},
   "source": [
    "## import modules and data"
   ]
  },
  {
   "cell_type": "code",
   "execution_count": 17,
   "id": "cf6cea14",
   "metadata": {},
   "outputs": [
    {
     "data": {
      "text/html": [
       "<div>\n",
       "<style scoped>\n",
       "    .dataframe tbody tr th:only-of-type {\n",
       "        vertical-align: middle;\n",
       "    }\n",
       "\n",
       "    .dataframe tbody tr th {\n",
       "        vertical-align: top;\n",
       "    }\n",
       "\n",
       "    .dataframe thead th {\n",
       "        text-align: right;\n",
       "    }\n",
       "</style>\n",
       "<table border=\"1\" class=\"dataframe\">\n",
       "  <thead>\n",
       "    <tr style=\"text-align: right;\">\n",
       "      <th></th>\n",
       "      <th>STUDY_ID</th>\n",
       "      <th>SAMPLE_ID</th>\n",
       "      <th>U2AF1</th>\n",
       "      <th>KRAS</th>\n",
       "      <th>EGFR</th>\n",
       "    </tr>\n",
       "  </thead>\n",
       "  <tbody>\n",
       "    <tr>\n",
       "      <th>0</th>\n",
       "      <td>lung_msk_mind_2020</td>\n",
       "      <td>P-0000239-T01-IM3</td>\n",
       "      <td>WT</td>\n",
       "      <td>WT</td>\n",
       "      <td>WT</td>\n",
       "    </tr>\n",
       "    <tr>\n",
       "      <th>1</th>\n",
       "      <td>lung_msk_mind_2020</td>\n",
       "      <td>P-0001987-T01-IM3</td>\n",
       "      <td>WT</td>\n",
       "      <td>WT</td>\n",
       "      <td>WT</td>\n",
       "    </tr>\n",
       "    <tr>\n",
       "      <th>2</th>\n",
       "      <td>lung_msk_mind_2020</td>\n",
       "      <td>P-0002794-T01-IM3</td>\n",
       "      <td>WT</td>\n",
       "      <td>WT</td>\n",
       "      <td>WT</td>\n",
       "    </tr>\n",
       "    <tr>\n",
       "      <th>3</th>\n",
       "      <td>lung_msk_mind_2020</td>\n",
       "      <td>P-0002921-T01-IM3</td>\n",
       "      <td>WT</td>\n",
       "      <td>G12A</td>\n",
       "      <td>WT</td>\n",
       "    </tr>\n",
       "    <tr>\n",
       "      <th>4</th>\n",
       "      <td>lung_msk_mind_2020</td>\n",
       "      <td>P-0003247-T01-IM5</td>\n",
       "      <td>WT</td>\n",
       "      <td>G12D</td>\n",
       "      <td>WT</td>\n",
       "    </tr>\n",
       "    <tr>\n",
       "      <th>...</th>\n",
       "      <td>...</td>\n",
       "      <td>...</td>\n",
       "      <td>...</td>\n",
       "      <td>...</td>\n",
       "      <td>...</td>\n",
       "    </tr>\n",
       "    <tr>\n",
       "      <th>4794</th>\n",
       "      <td>luad_mskcc_2023_met_organotropism</td>\n",
       "      <td>P-0047270-T02-WES</td>\n",
       "      <td>WT</td>\n",
       "      <td>WT</td>\n",
       "      <td>WT</td>\n",
       "    </tr>\n",
       "    <tr>\n",
       "      <th>4795</th>\n",
       "      <td>luad_mskcc_2023_met_organotropism</td>\n",
       "      <td>P-0047338-T01-WES</td>\n",
       "      <td>WT</td>\n",
       "      <td>G12C</td>\n",
       "      <td>WT</td>\n",
       "    </tr>\n",
       "    <tr>\n",
       "      <th>4796</th>\n",
       "      <td>luad_mskcc_2023_met_organotropism</td>\n",
       "      <td>P-0052008-T03-WES</td>\n",
       "      <td>WT</td>\n",
       "      <td>G12A</td>\n",
       "      <td>WT</td>\n",
       "    </tr>\n",
       "    <tr>\n",
       "      <th>4797</th>\n",
       "      <td>luad_mskcc_2023_met_organotropism</td>\n",
       "      <td>P-0052008-T02-WES</td>\n",
       "      <td>WT</td>\n",
       "      <td>G12A</td>\n",
       "      <td>WT</td>\n",
       "    </tr>\n",
       "    <tr>\n",
       "      <th>4798</th>\n",
       "      <td>luad_mskcc_2023_met_organotropism</td>\n",
       "      <td>P-0055502-T05-WES</td>\n",
       "      <td>WT</td>\n",
       "      <td>WT</td>\n",
       "      <td>L858R L833V C797S</td>\n",
       "    </tr>\n",
       "  </tbody>\n",
       "</table>\n",
       "<p>4799 rows × 5 columns</p>\n",
       "</div>"
      ],
      "text/plain": [
       "                               STUDY_ID          SAMPLE_ID U2AF1  KRAS  \\\n",
       "0                    lung_msk_mind_2020  P-0000239-T01-IM3    WT    WT   \n",
       "1                    lung_msk_mind_2020  P-0001987-T01-IM3    WT    WT   \n",
       "2                    lung_msk_mind_2020  P-0002794-T01-IM3    WT    WT   \n",
       "3                    lung_msk_mind_2020  P-0002921-T01-IM3    WT  G12A   \n",
       "4                    lung_msk_mind_2020  P-0003247-T01-IM5    WT  G12D   \n",
       "...                                 ...                ...   ...   ...   \n",
       "4794  luad_mskcc_2023_met_organotropism  P-0047270-T02-WES    WT    WT   \n",
       "4795  luad_mskcc_2023_met_organotropism  P-0047338-T01-WES    WT  G12C   \n",
       "4796  luad_mskcc_2023_met_organotropism  P-0052008-T03-WES    WT  G12A   \n",
       "4797  luad_mskcc_2023_met_organotropism  P-0052008-T02-WES    WT  G12A   \n",
       "4798  luad_mskcc_2023_met_organotropism  P-0055502-T05-WES    WT    WT   \n",
       "\n",
       "                   EGFR  \n",
       "0                    WT  \n",
       "1                    WT  \n",
       "2                    WT  \n",
       "3                    WT  \n",
       "4                    WT  \n",
       "...                 ...  \n",
       "4794                 WT  \n",
       "4795                 WT  \n",
       "4796                 WT  \n",
       "4797                 WT  \n",
       "4798  L858R L833V C797S  \n",
       "\n",
       "[4799 rows x 5 columns]"
      ]
     },
     "execution_count": 17,
     "metadata": {},
     "output_type": "execute_result"
    }
   ],
   "source": [
    "#import modules and data\n",
    "import pandas as pd\n",
    "import seaborn as sns\n",
    "import numpy as np\n",
    "from matplotlib import pyplot as plt\n",
    "from statsmodels.sandbox.stats.multicomp import multipletests\n",
    "from scipy.stats import chi2_contingency\n",
    "from scipy.stats import chisquare\n",
    "\n",
    "pd.set_option('display.max_colwidth', None)\n",
    "df = pd.read_csv('Downloads/mutations-2.txt', sep='\\t')\n",
    "df\n",
    "\n",
    "#each row is a lung ADC sample's mutational status\n",
    "#there may be multiple samples per patient"
   ]
  },
  {
   "cell_type": "markdown",
   "id": "6e28305b",
   "metadata": {},
   "source": [
    "## split dataframes into one for mutational status of U2AF1 WT samples, one for mutational status of U2AF1 mutant samples"
   ]
  },
  {
   "cell_type": "code",
   "execution_count": 18,
   "id": "227b3553",
   "metadata": {},
   "outputs": [
    {
     "name": "stdout",
     "output_type": "stream",
     "text": [
      "number u2af1 wt samples are 4691\n",
      "number u2af1 s34f samples are 108\n"
     ]
    }
   ],
   "source": [
    "# split dataframe into U2AF1 WT/U2AF1 mut\n",
    "u2af1wtdf = df.loc[(df['U2AF1'] == 'WT')]\n",
    "u2af1mutdf = df.loc[(df['U2AF1'] != 'WT')]\n",
    "\n",
    "#get N of samples \n",
    "print('number u2af1 wt samples are', len(u2af1wtdf))\n",
    "print('number u2af1 s34f samples are', len(u2af1mutdf))"
   ]
  },
  {
   "cell_type": "markdown",
   "id": "3d878bca",
   "metadata": {},
   "source": [
    "## calculate KRAS, EGFR, all \"other drivers\" fractions for plotting on prism"
   ]
  },
  {
   "cell_type": "code",
   "execution_count": 19,
   "id": "c6107e39",
   "metadata": {},
   "outputs": [
    {
     "data": {
      "text/plain": [
       "{'KRAS': 56, 'EGFR': 24, 'Other': 34}"
      ]
     },
     "execution_count": 19,
     "metadata": {},
     "output_type": "execute_result"
    }
   ],
   "source": [
    "#Make dataframes of counts for KRAS, EGFR, and all other driver mutations and \n",
    "#calculate fraction of that mutation\n",
    "\n",
    "u2af1wtdict  = {}\n",
    "u2af1mutdict = {}\n",
    "\n",
    "dflist = [[u2af1wtdf, u2af1wtdict],[u2af1mutdf, u2af1mutdict]]\n",
    "\n",
    "#count number of mutations per gene for each genotype\n",
    "#There will be overlaps because patients can have overlapping mutations\n",
    "\n",
    "for pair in dflist:\n",
    "    #Other drivers = number of samples with an alteration in any of the drivers on the drivers list\n",
    "    #Can include samples that are also mutant for KRAS, EGFR\n",
    "    other = len(pair[0].loc[(pair[0]['KRAS'] == 'WT') & (pair[0]['EGFR'] == 'WT')])\n",
    "    kras = len(pair[0].loc[(pair[0]['KRAS'] != 'WT')])\n",
    "    egfr = len(pair[0].loc[(pair[0]['EGFR'] != 'WT')])\n",
    "\n",
    "    pair[1]['KRAS'] = kras\n",
    "    pair[1]['EGFR'] = egfr\n",
    "    pair[1]['Other'] = other\n",
    "\n",
    "u2af1mutdict\n",
    "\n",
    "\n",
    "# df = df.loc[:, df.columns.isin(['Sample ID', 'Patient ID', 'PTEN', 'RET', 'RIT1', 'SETD2', 'SMARCA4', 'STK11', \n",
    "#                                 'TP53', 'ALK'])]"
   ]
  },
  {
   "cell_type": "code",
   "execution_count": 20,
   "id": "89e73acd",
   "metadata": {},
   "outputs": [
    {
     "data": {
      "text/plain": [
       "{'KRAS': 1340, 'EGFR': 1491, 'Other': 1887}"
      ]
     },
     "execution_count": 20,
     "metadata": {},
     "output_type": "execute_result"
    }
   ],
   "source": [
    "u2af1wtdict"
   ]
  },
  {
   "cell_type": "markdown",
   "id": "e1061d18",
   "metadata": {},
   "source": [
    "## Check if numbers make sense"
   ]
  },
  {
   "cell_type": "code",
   "execution_count": 23,
   "id": "536825bd",
   "metadata": {},
   "outputs": [
    {
     "data": {
      "text/plain": [
       "'Mutations sum equal to sum of U2AF1 WT samples? ...False. Mutation sum is 4718. Sample sum is 4691. Mutation sum - sample sum = 27'"
      ]
     },
     "execution_count": 23,
     "metadata": {},
     "output_type": "execute_result"
    }
   ],
   "source": [
    "#check to see if numbers make sense\n",
    "\n",
    "wtdriversum = sum(u2af1wtdict.values())\n",
    "wtsamplesum = len(u2af1wtdf)\n",
    "wtsame = sum(u2af1wtdict.values()) == len(u2af1wtdf)\n",
    "wtsubtr = (sum(u2af1wtdict.values()) - len(u2af1wtdf))\n",
    "\n",
    "mutsubtr = (sum(u2af1mutdict.values()) - len(u2af1mutdf))\n",
    "mutdriversum = sum(u2af1mutdict.values())\n",
    "mutsamplesum = len(u2af1mutdf)\n",
    "mutsame = sum(u2af1mutdict.values()) == len(u2af1mutdf)\n",
    "\n",
    "\n",
    "f\"Mutations sum equal to sum of U2AF1 WT samples? ...{wtsame}. \\\n",
    "Mutation sum is {wtdriversum}. Sample sum is {wtsamplesum}. \\\n",
    "Mutation sum - sample sum = {wtsubtr}\"  "
   ]
  },
  {
   "cell_type": "code",
   "execution_count": 22,
   "id": "793fa8f1",
   "metadata": {},
   "outputs": [
    {
     "data": {
      "text/plain": [
       "'Driver mutations sum equal to sum of U2AF1 mutant samples? ...False. Driver mutation sum is 114. Sample sum is 108. Driver mutation sum - sample sum = 6'"
      ]
     },
     "execution_count": 22,
     "metadata": {},
     "output_type": "execute_result"
    }
   ],
   "source": [
    "f\"Driver mutations sum equal to sum of U2AF1 mutant samples? ...{mutsame}. \\\n",
    "Driver mutation sum is {mutdriversum}. Sample sum is {mutsamplesum}. \\\n",
    "Driver mutation sum - sample sum = {mutsubtr}\" "
   ]
  },
  {
   "cell_type": "markdown",
   "id": "1f28c7df",
   "metadata": {},
   "source": [
    "### Conclusion: There are more driver mutations than samples for either U2AF1 mutational status. That makes sense, since there can be multiple mutations in the same sample"
   ]
  },
  {
   "cell_type": "code",
   "execution_count": 24,
   "id": "a7fc319a",
   "metadata": {},
   "outputs": [
    {
     "data": {
      "text/html": [
       "<div>\n",
       "<style scoped>\n",
       "    .dataframe tbody tr th:only-of-type {\n",
       "        vertical-align: middle;\n",
       "    }\n",
       "\n",
       "    .dataframe tbody tr th {\n",
       "        vertical-align: top;\n",
       "    }\n",
       "\n",
       "    .dataframe thead th {\n",
       "        text-align: right;\n",
       "    }\n",
       "</style>\n",
       "<table border=\"1\" class=\"dataframe\">\n",
       "  <thead>\n",
       "    <tr style=\"text-align: right;\">\n",
       "      <th></th>\n",
       "      <th>KRAS</th>\n",
       "      <th>EGFR</th>\n",
       "      <th>Other</th>\n",
       "    </tr>\n",
       "  </thead>\n",
       "  <tbody>\n",
       "    <tr>\n",
       "      <th>U2AF1 WT (n=4691)</th>\n",
       "      <td>0.284019</td>\n",
       "      <td>0.316024</td>\n",
       "      <td>0.399958</td>\n",
       "    </tr>\n",
       "    <tr>\n",
       "      <th>U2AF1 Mutant (n=108)</th>\n",
       "      <td>0.491228</td>\n",
       "      <td>0.210526</td>\n",
       "      <td>0.298246</td>\n",
       "    </tr>\n",
       "  </tbody>\n",
       "</table>\n",
       "</div>"
      ],
      "text/plain": [
       "                          KRAS      EGFR     Other\n",
       "U2AF1 WT (n=4691)     0.284019  0.316024  0.399958\n",
       "U2AF1 Mutant (n=108)  0.491228  0.210526  0.298246"
      ]
     },
     "execution_count": 24,
     "metadata": {},
     "output_type": "execute_result"
    }
   ],
   "source": [
    "#Combine dataframes for WT and U2AF1 mut samples\n",
    "\n",
    "u2af1wt_top3 = pd.DataFrame.from_dict([u2af1wtdict])\n",
    "u2af1mut_top3 = pd.DataFrame.from_dict([u2af1mutdict])\n",
    "\n",
    "u2af1wt_top3.index = ['U2AF1 WT (n=4691)'] \n",
    "u2af1mut_top3.index = ['U2AF1 Mutant (n=108)'] \n",
    "\n",
    "u2af1wt_top3['Other'] = u2af1wt_top3['Other']/sum(u2af1wtdict.values())\n",
    "u2af1wt_top3['KRAS'] = u2af1wt_top3['KRAS']/sum(u2af1wtdict.values())\n",
    "u2af1wt_top3['EGFR'] = u2af1wt_top3['EGFR']/sum(u2af1wtdict.values())\n",
    "\n",
    "u2af1mut_top3['Other'] = u2af1mut_top3['Other']/sum(u2af1mutdict.values())\n",
    "u2af1mut_top3['KRAS'] = u2af1mut_top3['KRAS']/sum(u2af1mutdict.values())\n",
    "u2af1mut_top3['EGFR'] = u2af1mut_top3['EGFR']/sum(u2af1mutdict.values())\n",
    "\n",
    "#concat frames\n",
    "frames = [u2af1wt_top3, u2af1mut_top3]\n",
    "\n",
    "mutsconcat = pd.concat(frames)\n",
    "mutsconcat"
   ]
  },
  {
   "cell_type": "code",
   "execution_count": null,
   "id": "8a3845aa",
   "metadata": {},
   "outputs": [],
   "source": []
  }
 ],
 "metadata": {
  "kernelspec": {
   "display_name": "Python 3 (ipykernel)",
   "language": "python",
   "name": "python3"
  },
  "language_info": {
   "codemirror_mode": {
    "name": "ipython",
    "version": 3
   },
   "file_extension": ".py",
   "mimetype": "text/x-python",
   "name": "python",
   "nbconvert_exporter": "python",
   "pygments_lexer": "ipython3",
   "version": "3.9.13"
  }
 },
 "nbformat": 4,
 "nbformat_minor": 5
}
